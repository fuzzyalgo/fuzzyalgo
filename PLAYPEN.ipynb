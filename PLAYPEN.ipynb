{
 "cells": [
  {
   "cell_type": "code",
   "execution_count": 1,
   "id": "db4c83f4",
   "metadata": {},
   "outputs": [],
   "source": [
    "import algotrader as at\n",
    "gAccount = 'RF5D03'\n",
    "gSym = 'EURUSD'\n",
    "gDtFrom = None\n",
    "gDtTo = None"
   ]
  },
  {
   "cell_type": "code",
   "execution_count": 2,
   "id": "ddc12b37",
   "metadata": {},
   "outputs": [
    {
     "name": "stdout",
     "output_type": "stream",
     "text": [
      "\n",
      "From:  2025-01-03 13:02:50+00:00  To:  2025-01-03 17:02:50+00:00\n",
      "\n",
      "gDtTo.timestamp()  1735923770.0  gDtTo_epoch_ms:  1735923770000\n"
     ]
    }
   ],
   "source": [
    "from datetime import timezone\n",
    "from datetime import datetime\n",
    "from datetime import timedelta\n",
    "import time\n",
    "\n",
    "# global time vars\n",
    "gTimezoneUTC = timezone.utc\n",
    "gTdOffset= timedelta(hours=2)   # TODO recognise me - summer time 3h and winter time 2h\n",
    "gTicksPerPeriod = 36#36000  #  10hours * 36000secs/hours -> 36000 ticks per period\n",
    "gTimeDelta = timedelta( hours=4 )   # TODO config var 10 hours -> related to 36000 (gTicksPerPeriod) elements for ticks array\n",
    "#gDtTo   = datetime.now(gTimezoneUTC) + gTdOffset\n",
    "gDtTo   = datetime(2025, 1, 3, 17, 2, 50, 0, tzinfo=gTimezoneUTC)\n",
    "gDtFrom = gDtTo - gTimeDelta\n",
    "print( \"\\nFrom: \", gDtFrom, \" To: \", gDtTo )\n",
    "gDtTo_epoch_ms = int(gDtTo.timestamp()*1000)\n",
    "print( \"\\ngDtTo.timestamp() \", gDtTo.timestamp(), \" gDtTo_epoch_ms: \", gDtTo_epoch_ms)\n"
   ]
  },
  {
   "cell_type": "code",
   "execution_count": 3,
   "id": "2b8ab4c1",
   "metadata": {},
   "outputs": [
    {
     "data": {
      "text/plain": [
       "True"
      ]
     },
     "execution_count": 3,
     "metadata": {},
     "output_type": "execute_result"
    }
   ],
   "source": [
    "gH = at.Algotrader(gAccount)\n",
    "gH.mt5_init()"
   ]
  },
  {
   "cell_type": "code",
   "execution_count": 4,
   "id": "22860205",
   "metadata": {},
   "outputs": [
    {
     "name": "stdout",
     "output_type": "stream",
     "text": [
      "[(1672646605, 1.06933, 1.07012, 0., 0, 1672646605916, 134, 0.)\n",
      " (1672646605, 1.06927, 1.07004, 0., 0, 1672646605981, 134, 0.)\n",
      " (1672646636, 1.06932, 1.07002, 0., 0, 1672646636161, 134, 0.) ...\n",
      " (1672660946, 1.06788, 1.06792, 0., 0, 1672660946297, 134, 0.)\n",
      " (1672660955, 1.06787, 1.0679 , 0., 0, 1672660955737, 134, 0.)\n",
      " (1672660967, 1.06786, 1.06788, 0., 0, 1672660967913, 134, 0.)]\n"
     ]
    }
   ],
   "source": [
    "gTimeDelta = timedelta( hours=4 )   # TODO config var 10 hours -> related to 36000 (gTicksPerPeriod) elements for ticks array\n",
    "#gDtTo   = datetime.now(gTimezoneUTC) + gTdOffset\n",
    "gDtTo   = datetime(2023, 1, 2, 12, 2, 50, 0, tzinfo=gTimezoneUTC)\n",
    "gDtFrom = gDtTo - gTimeDelta\n",
    "_npa = gH.mt5.copy_ticks_range( gSym, gDtFrom, gDtTo , gH.mt5.COPY_TICKS_ALL)\n",
    "print( _npa )"
   ]
  },
  {
   "cell_type": "code",
   "execution_count": null,
   "id": "d419d082",
   "metadata": {},
   "outputs": [],
   "source": []
  },
  {
   "cell_type": "code",
   "execution_count": null,
   "id": "11713e22",
   "metadata": {},
   "outputs": [],
   "source": []
  }
 ],
 "metadata": {
  "kernelspec": {
   "display_name": "Python 3 (ipykernel)",
   "language": "python",
   "name": "python3"
  },
  "language_info": {
   "codemirror_mode": {
    "name": "ipython",
    "version": 3
   },
   "file_extension": ".py",
   "mimetype": "text/x-python",
   "name": "python",
   "nbconvert_exporter": "python",
   "pygments_lexer": "ipython3",
   "version": "3.8.20"
  }
 },
 "nbformat": 4,
 "nbformat_minor": 5
}
